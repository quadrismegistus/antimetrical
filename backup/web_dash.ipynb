{
 "cells": [
  {
   "cell_type": "code",
   "execution_count": 1,
   "id": "41bd80b9-8122-42b6-8b12-c40bb8bcec9a",
   "metadata": {},
   "outputs": [],
   "source": [
    "#!pip install jupyter-dash\n",
    "# !jupyter labextension install jupyterlab-dash\n",
    "#!jupyter lab build"
   ]
  },
  {
   "cell_type": "code",
   "execution_count": 7,
   "id": "dc2944f3-8bbc-478a-99d6-9b6a51cd51c7",
   "metadata": {},
   "outputs": [],
   "source": [
    "from jupyter_dash import JupyterDash\n",
    "from dash import dcc,html\n",
    "import pandas as pd\n",
    "import plotly.express as px\n",
    "from dash.dependencies import Input, Output"
   ]
  },
  {
   "cell_type": "code",
   "execution_count": null,
   "id": "7600306e-08f7-47a4-b47b-c759c68a3dd5",
   "metadata": {},
   "outputs": [],
   "source": []
  },
  {
   "cell_type": "code",
   "execution_count": 13,
   "id": "49123563-9a89-4b99-8ac9-0385a0c0230a",
   "metadata": {},
   "outputs": [],
   "source": [
    "# # Load Data\n",
    "# df = px.data.tips()\n",
    "# # Build App\n",
    "# app = JupyterDash(__name__)\n",
    "# app.layout = html.Div([\n",
    "#     html.H1(\"JupyterDash Demo\"),\n",
    "#     dcc.Graph(id='graph'),\n",
    "#     html.Label([\n",
    "#         \"colorscale\",\n",
    "#         dcc.Dropdown(\n",
    "#             id='colorscale-dropdown', clearable=False,\n",
    "#             value='plasma', options=[\n",
    "#                 {'label': c, 'value': c}\n",
    "#                 for c in px.colors.named_colorscales()\n",
    "#             ])\n",
    "#     ]),\n",
    "# ])\n",
    "# # Define callback to update graph\n",
    "# @app.callback(\n",
    "#     Output('graph', 'figure'),\n",
    "#     [Input(\"colorscale-dropdown\", \"value\")]\n",
    "# )\n",
    "# def update_figure(colorscale):\n",
    "#     return px.scatter(\n",
    "#         df, x=\"total_bill\", y=\"tip\", color=\"size\",\n",
    "#         color_continuous_scale=colorscale,\n",
    "#         render_mode=\"webgl\", title=\"Tips\"\n",
    "#     )\n",
    "# # Run app and display result inline in the notebook\n",
    "# app.run_server(mode='inline')"
   ]
  },
  {
   "cell_type": "code",
   "execution_count": null,
   "id": "ea3e97d5-a85c-41b5-ba83-27d5afc70d47",
   "metadata": {},
   "outputs": [],
   "source": []
  },
  {
   "cell_type": "code",
   "execution_count": null,
   "id": "0396017b-b5b2-4c40-90ed-bef3efd3e5b6",
   "metadata": {},
   "outputs": [],
   "source": []
  }
 ],
 "metadata": {
  "kernelspec": {
   "display_name": "Python 3 (ipykernel)",
   "language": "python",
   "name": "python3"
  },
  "language_info": {
   "codemirror_mode": {
    "name": "ipython",
    "version": 3
   },
   "file_extension": ".py",
   "mimetype": "text/x-python",
   "name": "python",
   "nbconvert_exporter": "python",
   "pygments_lexer": "ipython3",
   "version": "3.8.11"
  }
 },
 "nbformat": 4,
 "nbformat_minor": 5
}
