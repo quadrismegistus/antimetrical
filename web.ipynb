{
 "cells": [
  {
   "cell_type": "markdown",
   "id": "dcb74524-620f-4d3c-916f-722c706c65f8",
   "metadata": {},
   "source": [
    "# Test"
   ]
  },
  {
   "cell_type": "code",
   "execution_count": 1,
   "id": "f025f011-8ffc-4aef-8a31-0767c8555f98",
   "metadata": {},
   "outputs": [],
   "source": [
    "import sys; sys.path.insert(0,'/Users/ryan/github/cadence')\n",
    "from cadence.imports import *\n",
    "from ipywidgets import interact, interact_manual, interactive, widgets, Layout, Button\n",
    "import plotnine as p9\n",
    "output = widgets.Output()"
   ]
  },
  {
   "cell_type": "code",
   "execution_count": 2,
   "id": "f00dff90-11cc-48a0-878c-2d9c1bea5dd8",
   "metadata": {},
   "outputs": [],
   "source": [
    "s=\"\"\"Doth teach    \\t  that ease's\\nand that repose,    to say 'Thus far the miles are measured from thy friend!'\"\"\""
   ]
  },
  {
   "cell_type": "code",
   "execution_count": 3,
   "id": "56a1ea1c-5329-4fc5-9c5b-9a36faf13b74",
   "metadata": {},
   "outputs": [],
   "source": [
    "widg_txtarea=widgets.Textarea(\n",
    "    description='Text',\n",
    "    rows=14,\n",
    "    layout=Layout(width='666px'),\n",
    "    value=sonnet.strip(),\n",
    ")\n",
    "# widg_txtarea"
   ]
  },
  {
   "cell_type": "code",
   "execution_count": 4,
   "id": "b67b66d5-dc6c-4d54-a7ac-881ae7175fe9",
   "metadata": {},
   "outputs": [
    {
     "data": {
      "application/vnd.jupyter.widget-view+json": {
       "model_id": "821993cbc1274d0ba339465a2094301e",
       "version_major": 2,
       "version_minor": 0
      },
      "text/plain": [
       "Textarea(value=\"How heavy do I journey on the way,\\nWhen what I seek, my weary travel's end,\\nDoth teach that …"
      ]
     },
     "metadata": {},
     "output_type": "display_data"
    },
    {
     "data": {
      "application/vnd.jupyter.widget-view+json": {
       "model_id": "3c4849bc4c7c49de81aaab01721eccb4",
       "version_major": 2,
       "version_minor": 0
      },
      "text/plain": [
       "Button(description='Parse', style=ButtonStyle())"
      ]
     },
     "metadata": {},
     "output_type": "display_data"
    },
    {
     "data": {
      "application/vnd.jupyter.widget-view+json": {
       "model_id": "6d7f1ff74a664429bf5bbd71a0903056",
       "version_major": 2,
       "version_minor": 0
      },
      "text/plain": [
       "Output()"
      ]
     },
     "metadata": {},
     "output_type": "display_data"
    }
   ],
   "source": [
    "def do_parse(b):\n",
    "    txt=widg_txtarea.value\n",
    "    with output:\n",
    "        output.clear_output()\n",
    "        oiterr=parse_iter_lines(txt,num_proc=1,progress=False,max_len=None, verbose=True,verse=True)\n",
    "        for ldf in oiterr:\n",
    "            display(show_parses(ldf))\n",
    "    \n",
    "b = Button(\n",
    "    description='Parse',\n",
    ")\n",
    "b.on_click(do_parse)\n",
    "display(widg_txtarea)\n",
    "display(b)\n",
    "display(output)"
   ]
  },
  {
   "cell_type": "code",
   "execution_count": null,
   "id": "4a31abdb-c074-4b1c-b92e-71d77fa36cf3",
   "metadata": {},
   "outputs": [],
   "source": []
  },
  {
   "cell_type": "code",
   "execution_count": null,
   "id": "e8e6792e-b194-4b08-9186-3ad01ee1ef5b",
   "metadata": {},
   "outputs": [],
   "source": []
  }
 ],
 "metadata": {
  "kernelspec": {
   "display_name": "Python 3.8.11 64-bit ('base': conda)",
   "language": "python",
   "name": "python3811jvsc74a57bd08d9a62951c4de3cec93df06e5a8769682e2513316501195b5ad08e283a24e7b2"
  },
  "language_info": {
   "codemirror_mode": {
    "name": "ipython",
    "version": 3
   },
   "file_extension": ".py",
   "mimetype": "text/x-python",
   "name": "python",
   "nbconvert_exporter": "python",
   "pygments_lexer": "ipython3",
   "version": "3.8.11"
  }
 },
 "nbformat": 4,
 "nbformat_minor": 5
}
